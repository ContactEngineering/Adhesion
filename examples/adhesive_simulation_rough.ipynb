{
 "cells": [
  {
   "cell_type": "markdown",
   "id": "4d8cfae0-2bd6-431c-9acd-cc1a4e5490a4",
   "metadata": {},
   "source": [
    "# Example of rough simulation with adhesion on the contact challenge 512x512 topography\n",
    "\n",
    "The adhesion is longer ranged in this example than in the original contact challenge problem definitition because we use a much coarser grid here. "
   ]
  },
  {
   "cell_type": "code",
   "execution_count": 182,
   "id": "0368561e-3562-44bc-8586-192e8e424b22",
   "metadata": {},
   "outputs": [],
   "source": [
    "from SurfaceTopography import read_published_container\n",
    "import Adhesion # required to register the \"make_system\" function\n",
    "from Adhesion.Interactions import Exponential\n",
    "import numpy as np\n",
    "import matplotlib.pyplot as plt\n",
    "import matplotlib as mpl\n",
    "\n",
    "from matplotlib.colors import LinearSegmentedColormap"
   ]
  },
  {
   "cell_type": "code",
   "execution_count": 2,
   "id": "53167755-a8ad-4fe9-924f-d7ae3e260a1d",
   "metadata": {},
   "outputs": [],
   "source": [
    "c, = read_published_container(\"https://doi.org/10.57703/ce-vrcd9\")"
   ]
  },
  {
   "cell_type": "code",
   "execution_count": 3,
   "id": "2d70e787-257e-4766-a150-43584fd9ce51",
   "metadata": {},
   "outputs": [],
   "source": [
    "t = c._topographies[0].to_unit(\"m\")"
   ]
  },
  {
   "cell_type": "code",
   "execution_count": 40,
   "id": "64027d49-38b8-418e-b757-bc30a4d42a7a",
   "metadata": {},
   "outputs": [],
   "source": [
    "t.parent_topography.parent_topography.parent_topography._periodic = True\n",
    "#TODO: temporary tweak becaus the published topography has wrong peridic property"
   ]
  },
  {
   "cell_type": "code",
   "execution_count": 41,
   "id": "48657c1c-379a-4e52-b9c3-2edd7b736147",
   "metadata": {},
   "outputs": [
    {
     "data": {
      "text/plain": [
       "True"
      ]
     },
     "execution_count": 41,
     "metadata": {},
     "output_type": "execute_result"
    }
   ],
   "source": [
    "t.is_periodic"
   ]
  },
  {
   "cell_type": "code",
   "execution_count": 42,
   "id": "4eb1f906-cb7f-4fe0-a1d7-c09c14efe403",
   "metadata": {},
   "outputs": [],
   "source": [
    "t._periodic = True"
   ]
  },
  {
   "cell_type": "code",
   "execution_count": 43,
   "id": "5ed98da0-ce2d-4a8c-ac68-dab8473c675a",
   "metadata": {},
   "outputs": [
    {
     "data": {
      "text/plain": [
       "0.7336383107367028"
      ]
     },
     "execution_count": 43,
     "metadata": {},
     "output_type": "execute_result"
    }
   ],
   "source": [
    "t.rms_gradient()"
   ]
  },
  {
   "cell_type": "code",
   "execution_count": 44,
   "id": "d484080f-6340-40ec-9422-88179850d298",
   "metadata": {},
   "outputs": [
    {
     "data": {
      "text/plain": [
       "7.621658676206695e-07"
      ]
     },
     "execution_count": 44,
     "metadata": {},
     "output_type": "execute_result"
    }
   ],
   "source": [
    "t.rms_height_from_area()"
   ]
  },
  {
   "cell_type": "code",
   "execution_count": 45,
   "id": "a98fd5a3-c443-44ec-b531-74e62003b1a0",
   "metadata": {},
   "outputs": [
    {
     "data": {
      "text/plain": [
       "3.9854089287689417e-07"
      ]
     },
     "execution_count": 45,
     "metadata": {},
     "output_type": "execute_result"
    }
   ],
   "source": [
    "1/t.rms_curvature_from_area()"
   ]
  },
  {
   "cell_type": "code",
   "execution_count": 46,
   "id": "95f38fc5-5b0e-4d96-afb8-e177374d017b",
   "metadata": {},
   "outputs": [],
   "source": [
    "Es = 25e6 # N / m2\n",
    "challenge_wint = 0.05 # mJ / m2\n",
    "challenge_rho = 2.071e-9 # interaction_range in the contact challenge\n",
    "# External load 250 kPa\n",
    "challenge_external_pressure = 250e3 # Pa"
   ]
  },
  {
   "cell_type": "markdown",
   "id": "f352797a-d70d-4b38-898d-80f8952ceff9",
   "metadata": {},
   "source": [
    "## Defining meaningful numerical tolerances"
   ]
  },
  {
   "cell_type": "markdown",
   "id": "4078a671-f2c5-4aed-befe-ba52a097f663",
   "metadata": {},
   "source": [
    "In adhesive simulations, the optimisation variable is the displacement. \n",
    "The algorithm seeks the minimum of the total energy $\\Pi_\\mathrm{tot}$, where the residual $\\partial \\Pi_\\mathrm{tot}/\\partial u_{ij} = 0$"
   ]
  },
  {
   "cell_type": "markdown",
   "id": "bd9a7cb5-0d15-4667-9502-bfc34cba02c3",
   "metadata": {},
   "source": [
    "A typical repulsive contact pressure is $E^\\prime h^\\prime_{rms}$, leading to the typical repulsive pixel force $E^\\prime h^\\prime_{rms} \\Delta x^2$. \n",
    "We use a small fraction of this typical force as the numerical tolerance for the residual: "
   ]
  },
  {
   "cell_type": "code",
   "execution_count": 82,
   "id": "ede45208-90b2-4da4-b71c-6c4c5deef001",
   "metadata": {},
   "outputs": [],
   "source": [
    "pixel_force_tol = 1e-5 * Es * t.rms_gradient() * t.area_per_pt"
   ]
  },
  {
   "cell_type": "markdown",
   "id": "e739181b-8cfe-46a3-bcc7-680116f76af6",
   "metadata": {},
   "source": [
    "Another valid choice of \"typical pressure\" would be to use the maximum interaction force. "
   ]
  },
  {
   "cell_type": "markdown",
   "id": "6f31dc5b-d1e2-41c8-8147-4baaadc274d9",
   "metadata": {},
   "source": [
    "In dual minimizers (used in the nonadhesive contact system), the residual is the gap inside the contact area. Let's use a typical change of heights for the tolerance"
   ]
  },
  {
   "cell_type": "code",
   "execution_count": 83,
   "id": "6019e69c-256e-4c9e-8130-0849314144d8",
   "metadata": {},
   "outputs": [],
   "source": [
    "penetration_tol = 1e-3 * t.rms_gradient() * t.pixel_size[0]"
   ]
  },
  {
   "cell_type": "markdown",
   "id": "fa453436-54ce-49f9-b2fa-863791c54698",
   "metadata": {},
   "source": [
    "### Nonadhesive contact system"
   ]
  },
  {
   "cell_type": "code",
   "execution_count": 86,
   "id": "624a708d-8303-4f91-8056-33c03cc7b754",
   "metadata": {},
   "outputs": [],
   "source": [
    "nonadhesive_system = t.make_contact_system(interaction=\"hardwall\", young=Es)"
   ]
  },
  {
   "cell_type": "code",
   "execution_count": 87,
   "id": "1d640cfd-9d97-42eb-aa08-3e2acc4f36dd",
   "metadata": {},
   "outputs": [],
   "source": [
    "sol = nonadhesive_system.minimize_proxy(external_force=np.prod(t.physical_sizes) \n",
    "                                        * challenge_external_pressure, pentol=penetration_tol)"
   ]
  },
  {
   "cell_type": "code",
   "execution_count": 89,
   "id": "334c8966-1cd4-4960-9849-181ceb3bd33c",
   "metadata": {},
   "outputs": [],
   "source": [
    "nonadhesive_offset = sol.offset"
   ]
  },
  {
   "cell_type": "code",
   "execution_count": 176,
   "id": "b306a8bf-5cc7-4646-8dbe-d26aa1415a48",
   "metadata": {},
   "outputs": [
    {
     "data": {
      "image/png": "[encoded data removed]",
      "text/plain": [
       "<Figure size 432x288 with 1 Axes>"
      ]
     },
     "metadata": {
      "needs_background": "light"
     },
     "output_type": "display_data"
    }
   ],
   "source": [
    "fig,ax=plt.subplots()\n",
    "cmap = LinearSegmentedColormap.from_list('contactcmap', ((1,1,1,0.), \"black\"), N=256)\n",
    "ax.matshow(nonadhesive_system.contact_zone.T, cmap = cmap)\n",
    "ax.grid(False)"
   ]
  },
  {
   "cell_type": "markdown",
   "id": "c35bd2eb-e624-4577-9860-3606d1b2539d",
   "metadata": {},
   "source": [
    "### contact system with hardwall repulsion"
   ]
  },
  {
   "cell_type": "code",
   "execution_count": 93,
   "id": "f6de42ea-abda-4aba-93bf-fa0892c3dd8b",
   "metadata": {},
   "outputs": [],
   "source": [
    "from Adhesion.Interactions import Exponential\n",
    "from Adhesion.System import BoundedSmoothContactSystem"
   ]
  },
  {
   "cell_type": "code",
   "execution_count": 127,
   "id": "c7527a0f-93dd-4a15-8288-da8242553e16",
   "metadata": {},
   "outputs": [],
   "source": [
    "interaction=Exponential(gamma0=challenge_wint ,rho=challenge_rho*30)"
   ]
  },
  {
   "cell_type": "code",
   "execution_count": 128,
   "id": "79ccc43f-72b4-4f8c-a749-ecd6c9927872",
   "metadata": {},
   "outputs": [],
   "source": [
    "w = -interaction.evaluate(0)[0]"
   ]
  },
  {
   "cell_type": "code",
   "execution_count": 129,
   "id": "46e12a16-fddf-428d-8eb7-f0aac77d7c3e",
   "metadata": {},
   "outputs": [],
   "source": [
    "dx = t.pixel_size[0]"
   ]
  },
  {
   "cell_type": "markdown",
   "id": "439f7520-7d31-4be7-8457-e8df0a67dc06",
   "metadata": {},
   "source": [
    "### Properties of the adhesive rough contact"
   ]
  },
  {
   "cell_type": "markdown",
   "id": "8d6eed01-b761-48ed-8012-b5b285de1ec5",
   "metadata": {},
   "source": [
    "##### Energy for full conformal contact"
   ]
  },
  {
   "cell_type": "code",
   "execution_count": 184,
   "id": "31d024fb-1238-4897-a32d-399d7640e9d8",
   "metadata": {},
   "outputs": [],
   "source": [
    "print(\"Persson and Tosatti adhesion criterion: \")\n",
    "print(\n",
    "    \"elastic deformation energy for full contact / work of adhesion: \"\n",
    "    \"{}\".format(nonadhesive_system.substrate.evaluate(t.detrend(detrend_mode=\"center\").heights())[0]\n",
    "                / w / np.prod(t.physical_sizes)))  # ^\n",
    "#                           sets the mean to zero, so         |\n",
    "#                           that the energy of the q = 0   --\n",
    "#                           mode is not taken into\n",
    "#                           account"
   ]
  },
  {
   "cell_type": "markdown",
   "id": "eb2a97af-8e7a-4c36-9daa-06e3186a6b01",
   "metadata": {},
   "source": [
    "##### Pastewka and Robbins criterion\n",
    "P&R equation 10, with kappa_rep = 2, d_rep=4 h'rms / h''rms\n",
    "(Only valid in the DMT regime, i.e. until the onset of stickiness)\n",
    "If this value is smaller then 1 the surfaces are sticky and\n",
    "normal CG's might not work anymore\n",
    "\n",
    "A requirement for the Pastewka Robbins theory to be valid is that the interaction is short ranged enough. \n",
    "See below. "
   ]
  },
  {
   "cell_type": "code",
   "execution_count": 185,
   "id": "5e4f738b-6e39-4838-acc6-4ce1b0c348a0",
   "metadata": {},
   "outputs": [
    {
     "name": "stdout",
     "output_type": "stream",
     "text": [
      "P&R stickiness criterion: 26.03037299764939\n",
      "Generalized Tabor parameter following Martin Müser\n",
      "0.18802240638058187\n"
     ]
    }
   ],
   "source": [
    "rho = interaction.rho\n",
    "\n",
    "\n",
    "print(\"P&R stickiness criterion: \"\n",
    "      \"{}\".format(t.rms_gradient() * Es * rho / 2 / w *\n",
    "                  (t.rms_gradient() ** 2 / t.rms_curvature_from_area() / rho)\n",
    "                  ** (2 / 3)))\n",
    "\n",
    "R = 1 / t.rms_curvature_from_area()\n",
    "elastocapillary_length = w / Es\n",
    "print(\"Generalized Tabor parameter following Martin Müser\")\n",
    "print(\"{}\".format(\n",
    "    R ** (1 / 3) * elastocapillary_length ** (2 / 3) / rho))"
   ]
  },
  {
   "cell_type": "markdown",
   "id": "39b003e0-de8f-4bad-aa95-b5ee44eb93dd",
   "metadata": {},
   "source": [
    "Is the Pastewka Robbins assumption of short-ranged adhesion valid ? "
   ]
  },
  {
   "cell_type": "code",
   "execution_count": 186,
   "id": "6db95304-2402-454f-927b-c6a440f3b9b9",
   "metadata": {},
   "outputs": [
    {
     "name": "stdout",
     "output_type": "stream",
     "text": [
      "rms_height / interaction_length: 12.267276156778841\n"
     ]
    }
   ],
   "source": [
    "print(\"rms_height / interaction_length: \"\n",
    "      \"{}\".format(t.rms_height_from_area() / interaction.rho))"
   ]
  },
  {
   "cell_type": "markdown",
   "id": "2eb240b8-cdda-4d05-a1b2-6d5a5591ab67",
   "metadata": {},
   "source": [
    "[Monti Sanner and Pastewka 2021](https://doi.org/10.1007/s11249-021-01454-6)"
   ]
  },
  {
   "cell_type": "code",
   "execution_count": 187,
   "id": "2ff0a93f-ff86-4f2f-9f56-65849ae2d5f2",
   "metadata": {},
   "outputs": [],
   "source": [
    "g0 = 16 /3 * t.rms_gradient()**2 / t.rms_curvature_from_area()"
   ]
  },
  {
   "cell_type": "code",
   "execution_count": 188,
   "id": "e2caec95-612d-48d0-b003-7d202093fc23",
   "metadata": {},
   "outputs": [
    {
     "data": {
      "text/plain": [
       "1.1440252811276187e-06"
      ]
     },
     "execution_count": 188,
     "metadata": {},
     "output_type": "execute_result"
    }
   ],
   "source": [
    "g0"
   ]
  },
  {
   "cell_type": "code",
   "execution_count": 189,
   "id": "32729c67-d278-43bf-9b9a-9fe2a18d9a33",
   "metadata": {},
   "outputs": [
    {
     "name": "stdout",
     "output_type": "stream",
     "text": [
      "rho / g0: 18.413411896468997\n"
     ]
    }
   ],
   "source": [
    "print(\"rho / g0: \"\n",
    "      \"{}\".format(g0 / interaction.rho))"
   ]
  },
  {
   "cell_type": "markdown",
   "id": "63c6a0a5-c6ec-4cba-bb5b-72af304a6250",
   "metadata": {},
   "source": [
    "This value should be smaller than 0.1 for the assumptions behind the Pastewka and Robbins theory to be valid. We hence cannot apply the theory to the system considered here."
   ]
  },
  {
   "cell_type": "markdown",
   "id": "4dd1feba-73c8-4216-8b8d-5d21866c69fc",
   "metadata": {},
   "source": [
    "#### Estimate whether the discretisation is alright"
   ]
  },
  {
   "cell_type": "markdown",
   "id": "08cacdbb-238a-46fb-91e6-fdc9c5b2905e",
   "metadata": {},
   "source": [
    "##### Process zone in a crack"
   ]
  },
  {
   "cell_type": "code",
   "execution_count": 193,
   "id": "860b3d67-7091-4dc7-9abd-03772d98a355",
   "metadata": {},
   "outputs": [
    {
     "name": "stdout",
     "output_type": "stream",
     "text": [
      "nb pixels in process zone: 3.145522527469698\n"
     ]
    }
   ],
   "source": [
    "process_zone_size = Es * w / np.pi / abs(interaction.max_tensile) ** 2\n",
    "\n",
    "print(\"nb pixels in process zone: {}\".format(process_zone_size / dx))\n",
    "# print(\"highcut wavelength / process_zone size: \"\n",
    "#       \"{}\".format(short_cutoff / process_zone_size))\n"
   ]
  },
  {
   "cell_type": "markdown",
   "id": "a4edd176-0357-4d8e-8b13-44ab5cc09caa",
   "metadata": {},
   "source": [
    "##### Empirical criterion on contact of spheres (see [adhesive_simulation_sphere.ipynb]())\n",
    "$$\n",
    "dx \\leq 2 \\rho^2 \\frac{4}{3\\pi} \\frac{1}{\\ell_a}\n",
    "$$"
   ]
  },
  {
   "cell_type": "markdown",
   "id": "99484b37-30b3-47fe-9992-67a5e2b97e9b",
   "metadata": {},
   "source": [
    "The value below should be greater than 1: "
   ]
  },
  {
   "cell_type": "code",
   "execution_count": 194,
   "id": "5df007d7-5f64-48ba-9d28-9c2f16c01351",
   "metadata": {},
   "outputs": [
    {
     "data": {
      "text/plain": [
       "8.388060073252527"
      ]
     },
     "execution_count": 194,
     "metadata": {},
     "output_type": "execute_result"
    }
   ],
   "source": [
    "interaction.rho ** 2 * 8 / 3 / np.pi * Es / w / dx"
   ]
  },
  {
   "cell_type": "markdown",
   "id": "66324fea-140d-4f13-aae4-0f20fb4b31ff",
   "metadata": {},
   "source": [
    "##### [Wang, Zhou and Müser 2021](https://doi.org/10.3390/lubricants9020017) Equation (9) and Fig.8:"
   ]
  },
  {
   "cell_type": "markdown",
   "id": "036ce162-2a40-403c-930e-225e697ae125",
   "metadata": {},
   "source": [
    "$\\mu_{rho}$"
   ]
  },
  {
   "cell_type": "code",
   "execution_count": 195,
   "id": "769d952b-e32b-4594-b769-74aed9e3c54e",
   "metadata": {},
   "outputs": [
    {
     "data": {
      "text/plain": [
       "0.3181109830364135"
      ]
     },
     "execution_count": 195,
     "metadata": {},
     "output_type": "execute_result"
    }
   ],
   "source": [
    "np.sqrt(- interaction.evaluate(0, True, True, True)[-1] # min curvature for the exponential interaction\n",
    "                 / Es * dx\n",
    "                )"
   ]
  },
  {
   "cell_type": "markdown",
   "id": "c40ab637-0834-4ef8-82bf-333e05b899e2",
   "metadata": {},
   "source": [
    "should be smaller than 0.5"
   ]
  },
  {
   "cell_type": "markdown",
   "id": "f056fa9e-bcf9-4fdf-8ed7-f4f7fb37e82c",
   "metadata": {},
   "source": [
    "### Adhesive simulation"
   ]
  },
  {
   "cell_type": "code",
   "execution_count": 196,
   "id": "335d76a3-955d-4284-858c-4fef5393df51",
   "metadata": {},
   "outputs": [],
   "source": [
    "system = t.make_contact_system(interaction=interaction, young=Es, system_class=BoundedSmoothContactSystem)"
   ]
  },
  {
   "cell_type": "code",
   "execution_count": 143,
   "id": "60432737-3c55-4d90-8872-975ebb074461",
   "metadata": {},
   "outputs": [],
   "source": [
    "sol=system.minimize_proxy(\n",
    "               offset=nonadhesive_offset, \n",
    "               # tol=pixel_force_tol, \n",
    "               lbounds=\"auto\",\n",
    "                options=dict(\n",
    "                    ftol=0,\n",
    "                    gtol=pixel_force_tol,\n",
    "                    maxcor=3,\n",
    "                    maxiter=1000,\n",
    "                    )\n",
    "                         )\n",
    "assert sol.success"
   ]
  },
  {
   "cell_type": "code",
   "execution_count": 177,
   "id": "a50b3193-21b6-408c-9e7a-a86601ea8899",
   "metadata": {},
   "outputs": [
    {
     "data": {
      "image/png": "[encoded data removed]",
      "text/plain": [
       "<Figure size 720x720 with 1 Axes>"
      ]
     },
     "metadata": {
      "needs_background": "light"
     },
     "output_type": "display_data"
    }
   ],
   "source": [
    "fig,ax=plt.subplots(figsize=(10, 10))\n",
    "color = \"red\"\n",
    "cmap = LinearSegmentedColormap.from_list('contactcmap', ((1,1,1,0.), color), N=256)\n",
    "ax.matshow(system.contact_zone.T, cmap = cmap)\n",
    "cmap = LinearSegmentedColormap.from_list('contactcmap', ((1,1,1,0.), \"black\"), N=256)\n",
    "ax.matshow(nonadhesive_system.contact_zone.T, cmap = cmap)\n",
    "\n",
    "ax.grid(False)"
   ]
  },
  {
   "cell_type": "code",
   "execution_count": 178,
   "id": "7eac9252-6e5c-46c4-a7dd-0b9fbb1911ab",
   "metadata": {},
   "outputs": [
    {
     "data": {
      "image/png": "[encoded data removed]",
      "text/plain": [
       "<Figure size 720x720 with 1 Axes>"
      ]
     },
     "execution_count": 178,
     "metadata": {},
     "output_type": "execute_result"
    }
   ],
   "source": [
    "ax.set_xlim(0, 128)\n",
    "ax.set_ylim(0, 128)\n",
    "fig"
   ]
  },
  {
   "cell_type": "markdown",
   "id": "ee408bf8-af8b-4130-bf79-c87f30aafdee",
   "metadata": {},
   "source": [
    "Gaps"
   ]
  },
  {
   "cell_type": "code",
   "execution_count": 179,
   "id": "83b0868b-f311-48ec-a2c8-7c1aa5ab41c0",
   "metadata": {},
   "outputs": [
    {
     "data": {
      "image/png": "[encoded data removed]",
      "text/plain": [
       "<Figure size 432x288 with 2 Axes>"
      ]
     },
     "metadata": {
      "needs_background": "light"
     },
     "output_type": "display_data"
    }
   ],
   "source": [
    "fig,ax=plt.subplots()\n",
    "plt.colorbar(ax.matshow(system.gap[:128,:128].T / interaction.rho), label=r\"$g/\\rho$\")\n",
    "ax.set_xlim(0, 128)\n",
    "ax.set_ylim(0, 128)\n",
    "\n",
    "ax.grid(False)"
   ]
  },
  {
   "cell_type": "markdown",
   "id": "99a1f083-ada3-429f-ab85-a6d390ff89b1",
   "metadata": {},
   "source": [
    "### How adhesion affected the mean pressure (in MPa)"
   ]
  },
  {
   "cell_type": "code",
   "execution_count": 180,
   "id": "a0015763-fbf1-47f7-8f86-9679dcb2ed89",
   "metadata": {},
   "outputs": [
    {
     "data": {
      "text/plain": [
       "245.56262278292817"
      ]
     },
     "execution_count": 180,
     "metadata": {},
     "output_type": "execute_result"
    }
   ],
   "source": [
    "system.compute_normal_force() / np.prod(t.physical_sizes) / 1000"
   ]
  },
  {
   "cell_type": "code",
   "execution_count": 181,
   "id": "d9d4c0dd-aa44-4e3c-a38a-158f52c28bfc",
   "metadata": {},
   "outputs": [
    {
     "data": {
      "text/plain": [
       "249.99999999999994"
      ]
     },
     "execution_count": 181,
     "metadata": {},
     "output_type": "execute_result"
    }
   ],
   "source": [
    "nonadhesive_system.compute_normal_force() / np.prod(t.physical_sizes) / 1000"
   ]
  },
  {
   "cell_type": "markdown",
   "id": "4fec07c8-f047-435a-9136-8ab3049d4434",
   "metadata": {},
   "source": [
    "## Further examples"
   ]
  },
  {
   "cell_type": "markdown",
   "id": "b0427835-200c-48a5-b0b5-343e3aa2f216",
   "metadata": {},
   "source": [
    "\n",
    "- [../test/test_bugnicourt_primal_rough_weakly_adhesive.py]()"
   ]
  },
  {
   "cell_type": "code",
   "execution_count": null,
   "id": "185894be-6739-4bee-b6fd-63c985dd614d",
   "metadata": {},
   "outputs": [],
   "source": []
  }
 ],
 "metadata": {
  "kernelspec": {
   "display_name": "Python 3",
   "language": "python",
   "name": "python3"
  },
  "language_info": {
   "codemirror_mode": {
    "name": "ipython",
    "version": 3
   },
   "file_extension": ".py",
   "mimetype": "text/x-python",
   "name": "python",
   "nbconvert_exporter": "python",
   "pygments_lexer": "ipython3",
   "version": "3.8.0"
  }
 },
 "nbformat": 4,
 "nbformat_minor": 5
}
