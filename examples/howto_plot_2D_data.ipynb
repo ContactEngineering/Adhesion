{
 "cells": [
  {
   "cell_type": "markdown",
   "source": [
    "Show what the current PyCo version is "
   ],
   "metadata": {
    "collapsed": false,
    "pycharm": {
     "name": "#%% md\n"
    }
   }
  },
  {
   "cell_type": "code",
   "execution_count": 36,
   "metadata": {
    "collapsed": true,
    "pycharm": {
     "is_executing": false
    }
   },
   "outputs": [
    {
     "name": "stdout",
     "text": [
      "1878c9944d4b4606fe28368460661ca5eb761e09\r\n"
     ],
     "output_type": "stream"
    }
   ],
   "source": [
    "!git rev-parse HEAD"
   ]
  },
  {
   "cell_type": "code",
   "execution_count": 37,
   "outputs": [],
   "source": [
    "import numpy as np\n",
    "import matplotlib.pyplot as plt\n",
    "from PyCo.Topography import read_topography\n",
    "from PyCo.Topography import open_topography\n",
    "from PyCo.Topography import Topography \n"
   ],
   "metadata": {
    "collapsed": false,
    "pycharm": {
     "name": "#%%\n",
     "is_executing": false
    }
   }
  },
  {
   "cell_type": "markdown",
   "source": [
    "# PyCo conventions\n",
    "\n",
    "first index (from the left) of a numpy array: x- direction\n",
    "second index : y-direction"
   ],
   "metadata": {
    "collapsed": false,
    "pycharm": {
     "name": "#%% md\n",
     "is_executing": false
    }
   }
  },
  {
   "cell_type": "code",
   "execution_count": 38,
   "outputs": [],
   "source": [
    "\n",
    "heights = np.zeros((4,4))\n",
    "heights[0      ,   :  ] = 1\n",
    "#       same x   all y       \n",
    "heights[0, -2] = 0.5\n",
    "heights[1,0] = 0.25\n",
    "t = Topography(heights, physical_sizes=(1,1))"
   ],
   "metadata": {
    "collapsed": false,
    "pycharm": {
     "name": "#%%\n",
     "is_executing": false
    }
   }
  },
  {
   "cell_type": "code",
   "execution_count": 39,
   "outputs": [],
   "source": [
    "def prepare_plot():\n",
    "    fig, ax = plt.subplots()\n",
    "    ax.set_aspect(1)\n",
    "    ax.set_xlabel(\"x\")\n",
    "    ax.set_ylabel(\"y\") \n",
    "    \n",
    "    return fig, ax\n",
    "\n"
   ],
   "metadata": {
    "collapsed": false,
    "pycharm": {
     "name": "#%%\n",
     "is_executing": false
    }
   }
  },
  {
   "cell_type": "markdown",
   "source": [
    "# Different ways to plot 2D data\n",
    "\n",
    "## Pcolormesh\n",
    "\n",
    "### giving the x and y meshgrid\n",
    "\n",
    "In this case nothing can go wrong because for each datapoint the x and y value is given. However `pcolormesh` interprets\n",
    "the x and values as the corners of the boxes and the last z values are not displayed because there are less boxes then corners."
   ],
   "metadata": {
    "collapsed": false
   }
  },
  {
   "cell_type": "code",
   "execution_count": 40,
   "outputs": [
    {
     "data": {
      "text/plain": "<matplotlib.colorbar.Colorbar at 0x11b1b3f10>"
     },
     "metadata": {},
     "output_type": "execute_result",
     "execution_count": 40
    },
    {
     "data": {
      "text/plain": "<Figure size 432x288 with 2 Axes>",
      "image/png": "[encoded data removed]"
     },
     "metadata": {
      "needs_background": "light"
     },
     "output_type": "display_data"
    }
   ],
   "source": [
    "fig, ax = prepare_plot()   \n",
    "x, y, z = t.positions_and_heights()\n",
    "plt.colorbar(ax.pcolormesh(x, y, z, ))"
   ],
   "metadata": {
    "collapsed": false,
    "pycharm": {
     "name": "#%%\n",
     "is_executing": false
    }
   }
  },
  {
   "cell_type": "code",
   "execution_count": 41,
   "outputs": [
    {
     "data": {
      "text/plain": "<matplotlib.colorbar.Colorbar at 0x11b17e5d0>"
     },
     "metadata": {},
     "output_type": "execute_result",
     "execution_count": 41
    },
    {
     "data": {
      "text/plain": "<Figure size 432x288 with 2 Axes>",
      "image/png": "[encoded data removed]"
     },
     "metadata": {
      "needs_background": "light"
     },
     "output_type": "display_data"
    }
   ],
   "source": [
    "# check: transposing everything here doesn't change anything\n",
    "fig, ax = prepare_plot()   \n",
    "plt.colorbar(ax.pcolormesh(x.T, y.T, z.T))"
   ],
   "metadata": {
    "collapsed": false,
    "pycharm": {
     "name": "#%%\n",
     "is_executing": false
    }
   }
  },
  {
   "cell_type": "markdown",
   "source": [
    "trick: add a point to the x and y arrays so that all the z values will be displayed. \n",
    "\n",
    "Here we also shift the values so that (x, y) represent the center of the pixel \n",
    "rather then the left corner"
   ],
   "metadata": {
    "collapsed": false,
    "pycharm": {
     "name": "#%% md\n"
    }
   }
  },
  {
   "cell_type": "code",
   "execution_count": 42,
   "outputs": [
    {
     "data": {
      "text/plain": "<Figure size 432x288 with 2 Axes>",
      "image/png": "[encoded data removed]"
     },
     "metadata": {
      "needs_background": "light"
     },
     "output_type": "display_data"
    }
   ],
   "source": [
    "fig, ax = prepare_plot()   \n",
    "x_ = ((np.arange(z.shape[0]+1) - 0.5) * t.pixel_size[0]).reshape(-1,1)\n",
    "y_ = ((np.arange(z.shape[1]+1) - 0.5) * t.pixel_size[1]).reshape(1,-1)\n",
    "\n",
    "cb = plt.colorbar(ax.pcolormesh(x_*np.ones_like(y_), y_*np.ones_like(x_), z))"
   ],
   "metadata": {
    "collapsed": false,
    "pycharm": {
     "name": "#%% \n",
     "is_executing": false
    }
   }
  },
  {
   "cell_type": "markdown",
   "source": [
    "### pcolormesh with height values only\n",
    "\n",
    "in this case we need to comply to pcolormesh's conventions, that are different then ours. We need to transpose the data. \n",
    "Note that here all pixels are displayed. "
   ],
   "metadata": {
    "collapsed": false,
    "pycharm": {
     "name": "#%% md\n"
    }
   }
  },
  {
   "cell_type": "code",
   "execution_count": 43,
   "outputs": [
    {
     "data": {
      "text/plain": "<matplotlib.colorbar.Colorbar at 0x11b7bfed0>"
     },
     "metadata": {},
     "output_type": "execute_result",
     "execution_count": 43
    },
    {
     "data": {
      "text/plain": "<Figure size 432x288 with 2 Axes>",
      "image/png": "[encoded data removed]"
     },
     "metadata": {
      "needs_background": "light"
     },
     "output_type": "display_data"
    }
   ],
   "source": [
    "fig, ax = prepare_plot()   \n",
    "plt.colorbar(ax.pcolormesh(z.T))\n"
   ],
   "metadata": {
    "collapsed": false,
    "pycharm": {
     "name": "#%% \n",
     "is_executing": false
    }
   }
  },
  {
   "cell_type": "markdown",
   "source": [
    "### Matshow"
   ],
   "metadata": {
    "collapsed": false,
    "pycharm": {
     "name": "#%% md\n"
    }
   }
  },
  {
   "cell_type": "code",
   "execution_count": 45,
   "outputs": [
    {
     "data": {
      "text/plain": "<Figure size 432x288 with 2 Axes>",
      "image/png": "[encoded data removed]"
     },
     "metadata": {
      "needs_background": "light"
     },
     "output_type": "display_data"
    }
   ],
   "source": [
    "fig, ax = prepare_plot()\n",
    "\n",
    "cb = plt.colorbar(ax.matshow(z.T))\n",
    "ax.invert_yaxis()\n",
    "ax.tick_params(labelbottom=True, bottom=True, labeltop=False, top=False)"
   ],
   "metadata": {
    "collapsed": false,
    "pycharm": {
     "name": "#%%\n",
     "is_executing": false
    }
   }
  },
  {
   "cell_type": "markdown",
   "source": [
    "### imshow"
   ],
   "metadata": {
    "collapsed": false,
    "pycharm": {
     "name": "#%% md\n"
    }
   }
  },
  {
   "cell_type": "code",
   "execution_count": 47,
   "outputs": [
    {
     "data": {
      "text/plain": "<Figure size 432x288 with 2 Axes>",
      "image/png": "[encoded data removed]"
     },
     "metadata": {
      "needs_background": "light"
     },
     "output_type": "display_data"
    }
   ],
   "source": [
    "fig, ax = prepare_plot()\n",
    "\n",
    "cb = plt.colorbar(ax.imshow(z.T))\n",
    "ax.invert_yaxis()\n"
   ],
   "metadata": {
    "collapsed": false,
    "pycharm": {
     "name": "#%%\n",
     "is_executing": false
    }
   }
  },
  {
   "cell_type": "markdown",
   "source": [
    "## Adjust ticks\n",
    "\n",
    "With methods that use only the height array like `imshow` the ticks correspond to the index in your array. You can display\n",
    "physical values by setting the "
   ],
   "metadata": {
    "collapsed": false,
    "pycharm": {
     "name": "#%% md\n"
    }
   }
  },
  {
   "cell_type": "code",
   "execution_count": 50,
   "outputs": [
    {
     "data": {
      "text/plain": "<Figure size 432x288 with 2 Axes>",
      "image/png": "[encoded data removed]"
     },
     "metadata": {
      "needs_background": "light"
     },
     "output_type": "display_data"
    }
   ],
   "source": [
    "fig, ax = prepare_plot()\n",
    "cb = plt.colorbar(ax.imshow(z.T))\n",
    "ax.invert_yaxis()\n",
    "\n",
    "import matplotlib.ticker as ticker\n",
    "format_string='{0:g}'\n",
    "ax.xaxis.set_major_formatter(ticker.FuncFormatter(\n",
    "        lambda x, pos: format_string.format(x*t.pixel_size[0])))\n",
    "\n",
    "ax.yaxis.set_major_formatter(ticker.FuncFormatter(\n",
    "    lambda x, pos: format_string.format(x * t.pixel_size[1] )))"
   ],
   "metadata": {
    "collapsed": false,
    "pycharm": {
     "name": "#%%\n",
     "is_executing": false
    }
   }
  },
  {
   "cell_type": "markdown",
   "source": [
    "or if you want to decide yourself on tick spacing"
   ],
   "metadata": {
    "collapsed": false,
    "pycharm": {
     "name": "#%% md\n"
    }
   }
  },
  {
   "cell_type": "code",
   "execution_count": 60,
   "outputs": [
    {
     "data": {
      "text/plain": "<Figure size 432x288 with 2 Axes>",
      "image/png": "[encoded data removed]"
     },
     "metadata": {
      "needs_background": "light"
     },
     "output_type": "display_data"
    }
   ],
   "source": [
    "fig, ax = prepare_plot()\n",
    "cb = plt.colorbar(ax.imshow(z.T))\n",
    "ax.invert_yaxis()\n",
    "\n",
    "nx, ny = t.nb_grid_pts\n",
    "sx, sy = t.physical_sizes\n",
    "ticksx = np.linspace(0, sx, 3 )\n",
    "ticksy = np.linspace(0, sy, 3 )\n",
    "ax.set_xticks(ticksx / sx * nx - 0.5) # convert to \"index\" units\n",
    "ax.set_xticklabels([f\"{v:.2f}\" for v in ticksx])\n",
    "ax.set_yticks(ticksy / sy * ny - 0.5)\n",
    "ax.set_yticklabels([f\"{v:.2f}\" for v in ticksy]);"
   ],
   "metadata": {
    "collapsed": false,
    "pycharm": {
     "name": "#%%\n",
     "is_executing": false
    }
   }
  },
  {
   "cell_type": "code",
   "execution_count": null,
   "outputs": [],
   "source": [
    "\n"
   ],
   "metadata": {
    "collapsed": false,
    "pycharm": {
     "name": "#%%\n"
    }
   }
  }
 ],
 "metadata": {
  "kernelspec": {
   "display_name": "Python 3",
   "language": "python",
   "name": "python3"
  },
  "language_info": {
   "codemirror_mode": {
    "name": "ipython",
    "version": 2
   },
   "file_extension": ".py",
   "mimetype": "text/x-python",
   "name": "python",
   "nbconvert_exporter": "python",
   "pygments_lexer": "ipython2",
   "version": "2.7.6"
  },
  "pycharm": {
   "stem_cell": {
    "cell_type": "raw",
    "source": [],
    "metadata": {
     "collapsed": false
    }
   }
  }
 },
 "nbformat": 4,
 "nbformat_minor": 0
}