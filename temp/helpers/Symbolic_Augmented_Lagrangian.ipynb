{
 "cells": [
  {
   "cell_type": "code",
   "execution_count": 1,
   "metadata": {
    "autoscroll": "json-false",
    "collapsed": false,
    "ein.tags": [
     "worksheet-0"
    ]
   },
   "outputs": [],
   "source": [
    "import sympy\n",
    "from sympy import Symbol, diff, Matrix, pprint, MatrixSymbol, symbols\n",
    "\n",
    "def grad(fun, coords):\n",
    "    return Matrix([diff(fun, coord) for coord in coords])\n",
    "\n",
    "def hess(fun, coords):\n",
    "    dfun = grad(fun, coords)\n",
    "    return Matrix([ [diff(dfun[i], coord) for coord in coords]\n",
    "                    for i in range(len(dfun))])\n",
    "\n",
    "def Lc(fun, hfuns, lams, c):\n",
    "    retfun = fun\n",
    "    for i in range(len(lams)):\n",
    "        retfun = retfun + lams[i]*hfuns[i] + c/2*hfuns[i]**2\n",
    "    return retfun\n",
    "\n",
    "def dLc(fun, hfuns, lams, c, coords):\n",
    "    retfun = grad(fun, coords)\n",
    "    for i in range(len(lams)):\n",
    "        retfun += lams[i] * grad(hfuns[i], coords) + c*grad(hfuns[i], coords)*hfuns[i]\n",
    "    return retfun\n",
    "\n",
    "def ddLc(fun, hfuns, lams, c, coords):\n",
    "    dfun = dLc(fun, hfuns, lams, c, coords)\n",
    "    return Matrix([ [diff(dfun[i], coord) for coord in coords]\n",
    "                    for i in range(len(dfun))])\n"
   ]
  },
  {
   "cell_type": "code",
   "execution_count": 3,
   "metadata": {
    "autoscroll": "json-false",
    "collapsed": false,
    "ein.tags": [
     "worksheet-0"
    ]
   },
   "outputs": [
    {
     "name": "stdout",
     "output_type": "stream",
     "text": [
      "f(x, y):\n",
      "b⋅x\n",
      "grad(f(x, y)):\n",
      "⎡b⎤\n",
      "⎢ ⎥\n",
      "⎣0⎦\n",
      "hess(f(x, y)):\n",
      "⎡0  0⎤\n",
      "⎢    ⎥\n",
      "⎣0  0⎦\n",
      "\n",
      "h_0(x, y):\n",
      "          2\n",
      "-a + x + y \n",
      "grad(h_0(x, y)):\n",
      "⎡ 1 ⎤\n",
      "⎢   ⎥\n",
      "⎣2⋅y⎦\n",
      "hess(h_0(x, y)):\n",
      "⎡0  0⎤\n",
      "⎢    ⎥\n",
      "⎣0  2⎦\n",
      "\n",
      "L(x, y, lam, c):\n",
      "                     2                  \n",
      "        ⎛          2⎞                   \n",
      "      c⋅⎝-a + x + y ⎠      ⎛          2⎞\n",
      "b⋅x + ──────────────── + λ⋅⎝-a + x + y ⎠\n",
      "             2                          \n",
      "dL(x, y, lam, c):\n",
      "⎡        ⎛          2⎞      ⎤\n",
      "⎢  b + c⋅⎝-a + x + y ⎠ + λ  ⎥\n",
      "⎢                           ⎥\n",
      "⎢      ⎛          2⎞        ⎥\n",
      "⎣2⋅c⋅y⋅⎝-a + x + y ⎠ + 2⋅y⋅λ⎦\n",
      "ddL(x, y, lam, c):\n",
      "⎡  c                 2⋅c⋅y              ⎤\n",
      "⎢                                       ⎥\n",
      "⎢            2       ⎛          2⎞      ⎥\n",
      "⎣2⋅c⋅y  4⋅c⋅y  + 2⋅c⋅⎝-a + x + y ⎠ + 2⋅λ⎦\n"
     ]
    }
   ],
   "source": [
    "b = Symbol('b', real = True, positive = True)\n",
    "a = Symbol('a', real = True)\n",
    "lam = Symbol('λ', real = True)\n",
    "c = Symbol('c', real = True, positive=True)\n",
    "x = Symbol('x', real = True)\n",
    "y = Symbol('y', real = True)\n",
    "\n",
    "def print_fun(fun, hfuns, lams, coords):\n",
    "    print('f(x, y):')\n",
    "    pprint(fun)\n",
    "    print('grad(f(x, y)):')\n",
    "    pprint(grad(fun, coords))\n",
    "    print('hess(f(x, y)):')\n",
    "    pprint(hess(fun, coords))\n",
    "    for i in range(len(hfuns)):\n",
    "        print('')\n",
    "        print('h_{}(x, y):'.format(i))\n",
    "        pprint(hfuns[i])\n",
    "        print('grad(h_{}(x, y)):'.format(i))\n",
    "        pprint(grad(hfuns[i], coords))\n",
    "        print('hess(h_{}(x, y)):'.format(i))\n",
    "        pprint(hess(hfuns[i], coords))\n",
    "    print('')\n",
    "    print('L(x, y, lam, c):')\n",
    "    pprint(Lc(f, hfuns, lams, c))\n",
    "    print('dL(x, y, lam, c):')\n",
    "    pprint(dLc(f, hfuns, lams, c, coords))\n",
    "    print('ddL(x, y, lam, c):')\n",
    "    pprint(ddLc(f, hfuns, lams, c, coords))\n",
    "\n",
    "f = b*x\n",
    "h = x+y*y -a\n",
    "print_fun(f, [h], [lam], [x, y])"
   ]
  },
  {
   "cell_type": "code",
   "execution_count": 4,
   "metadata": {
    "autoscroll": "json-false",
    "collapsed": false,
    "ein.tags": [
     "worksheet-0"
    ]
   },
   "outputs": [
    {
     "name": "stdout",
     "output_type": "stream",
     "text": [
      "f(x, y):\n",
      "        2                         2         \n",
      "0.0002⋅x  - - -0.0001⋅x + 0.0002⋅y  - 0.0002\n",
      "grad(f(x, y)):\n",
      "⎡0.0004⋅x - 0.0001⎤\n",
      "⎢                 ⎥\n",
      "⎣    0.0004⋅y     ⎦\n",
      "hess(f(x, y)):\n",
      "⎡0.0004    0   ⎤\n",
      "⎢              ⎥\n",
      "⎣  0     0.0004⎦\n",
      "\n",
      "h_0(x, y):\n",
      " 2    2    \n",
      "x  + y  - 1\n",
      "grad(h_0(x, y)):\n",
      "⎡2⋅x⎤\n",
      "⎢   ⎥\n",
      "⎣2⋅y⎦\n",
      "hess(h_0(x, y)):\n",
      "⎡2  0⎤\n",
      "⎢    ⎥\n",
      "⎣0  2⎦\n",
      "\n",
      "L(x, y, lam, c):\n",
      "               2                                                              \n",
      "  ⎛ 2    2    ⎞                                                               \n",
      "c⋅⎝x  + y  - 1⎠            2                         2      ⎛ 2    2    ⎞     \n",
      "──────────────── + 0.0002⋅x  - - -0.0001⋅x + 0.0002⋅y  + λ0⋅⎝x  + y  - 1⎠ - 0.\n",
      "       2                                                                      \n",
      "\n",
      "    \n",
      "    \n",
      "    \n",
      "0002\n",
      "    \n",
      "dL(x, y, lam, c):\n",
      "⎡      ⎛ 2    2    ⎞                             ⎤\n",
      "⎢2⋅c⋅x⋅⎝x  + y  - 1⎠ + 2⋅x⋅λ0 + 0.0004⋅x - 0.0001⎥\n",
      "⎢                                                ⎥\n",
      "⎢          ⎛ 2    2    ⎞                         ⎥\n",
      "⎣    2⋅c⋅y⋅⎝x  + y  - 1⎠ + 2⋅y⋅λ0 + 0.0004⋅y     ⎦\n",
      "ddL(x, y, lam, c):\n",
      "⎡     2       ⎛ 2    2    ⎞                                                   \n",
      "⎢4⋅c⋅x  + 2⋅c⋅⎝x  + y  - 1⎠ + 2⋅λ0 + 0.0004                   4⋅c⋅x⋅y         \n",
      "⎢                                                                             \n",
      "⎢                                                 2       ⎛ 2    2    ⎞       \n",
      "⎣                 4⋅c⋅x⋅y                    4⋅c⋅y  + 2⋅c⋅⎝x  + y  - 1⎠ + 2⋅λ0\n",
      "\n",
      "         ⎤\n",
      "         ⎥\n",
      "         ⎥\n",
      "         ⎥\n",
      " + 0.0004⎦\n"
     ]
    }
   ],
   "source": [
    "# example 20.5\n",
    "f = (2*(x**2 + y**2 - 1) - x)/1e4\n",
    "h = [(x**2 + y**2 - 1)]\n",
    "print_fun(f, h, symbols('λ:1'), [x, y])"
   ]
  },
  {
   "cell_type": "code",
   "execution_count": 5,
   "metadata": {
    "autoscroll": "json-false",
    "collapsed": false,
    "ein.tags": [
     "worksheet-0"
    ]
   },
   "outputs": [
    {
     "data": {
      "text/plain": [
       "'        2                         2         \\n0.0002⋅x  - - -0.0001⋅x + 0.0002⋅y  - 0.0002'"
      ]
     },
     "execution_count": 5,
     "metadata": {},
     "output_type": "execute_result"
    }
   ],
   "source": [
    "sympy.pretty(f)"
   ]
  },
  {
   "cell_type": "code",
   "execution_count": 6,
   "metadata": {
    "autoscroll": "json-false",
    "collapsed": false,
    "ein.tags": [
     "worksheet-0"
    ]
   },
   "outputs": [],
   "source": [
    "from sympy import pretty\n",
    "import numpy as np\n",
    "import scipy.optimize\n",
    "class augmented_algo(object):\n",
    "    def __init__(self, fun, h_list, coords, coords0):\n",
    "        self.fun = fun\n",
    "        self.hfuns = h_list\n",
    "        self.h_size = len(self.hfuns)\n",
    "        self.coords = coords\n",
    "        self.coords0 = coords0\n",
    "        self.lams = symbols('λ:{}'.format(len(self.hfuns)))\n",
    "        self.c = symbols('c', positive=True)\n",
    "        self.Lc = Lc(self.fun, self.hfuns, self.lams, self.c)\n",
    "        self.dLc = dLc(self.fun, self.hfuns, self.lams, self.c, self.coords)\n",
    "        self.ddLc = ddLc(self.fun, self.hfuns, self.lams, self.c, self.coords)\n",
    "\n",
    "        self.counter = 0\n",
    "\n",
    "        self.x_val = self.coords0\n",
    "        self.c_val = 10.\n",
    "        self.lam_val = [0. for _ in range(self.h_size)]\n",
    "        self.tau_val = 10\n",
    "        self.alpha_val = .1\n",
    "        self.beta_val = .9\n",
    "        self.eta0_val = .1258925\n",
    "        self.eta_val = 1/self.c_val**self.alpha_val\n",
    "        self.eps_val = 1e-8\n",
    "        self.eps_0_val = 1/self.c_val\n",
    "        self.eps_k_val = self.eps_0_val\n",
    "        self.iterates = list()\n",
    "\n",
    "    def __repr__(self):\n",
    "        fun_str = pretty(self.fun)\n",
    "        hfun_strs = [pretty(h) for h in self.hfuns]\n",
    "        lag_str = pretty(self.Lc)\n",
    "        outstr = []\n",
    "        coord_str = ', '.join((pretty(c) for c in self.coords))\n",
    "        outstr.append('f({}) ='.format(coord_str))\n",
    "        outstr.append(fun_str)\n",
    "        outstr.append('')\n",
    "        outstr.append('h({}) ='.format(coord_str))\n",
    "        for hf in hfun_strs:\n",
    "            outstr.append(hf)\n",
    "        outstr.append('')\n",
    "        outstr.append('L_c(({}), ({})) = '.format(\n",
    "            coord_str, ', '.join((pretty(c) for c in self.lams))))\n",
    "        outstr.append(lag_str)\n",
    "        return '\\n'.join(outstr)\n",
    "\n",
    "    def numeric_Lc(self):\n",
    "        subs = {lam: lam_val for lam, lam_val in zip(self.lams, self.lam_val)}\n",
    "        subs[self.c] = self.c_val\n",
    "        fun_val = sympy.utilities.lambdify(\n",
    "            self.coords,\n",
    "            self.Lc.subs(subs),\n",
    "            modules='numpy')\n",
    "\n",
    "        grad_val = sympy.utilities.lambdify(\n",
    "            self.coords,\n",
    "            self.dLc.subs(subs),\n",
    "            modules='numpy')\n",
    "\n",
    "        hess_val = sympy.utilities.lambdify(\n",
    "            self.coords,\n",
    "            self.ddLc.subs(subs),\n",
    "            modules='numpy')\n",
    "\n",
    "        h_vals = [sympy.utilities.lambdify(self.coords, self.hfuns[i], modules='numpy')\n",
    "                  for i in range(self.h_size)]\n",
    "        return fun_val, grad_val, hess_val, h_vals\n",
    "\n",
    "    def iteration(self):\n",
    "        self.counter += 1\n",
    "        print('\\nIteration {}:'.format(self.counter))\n",
    "        fun_val, grad_val, hess_val,  h_vals = self.numeric_Lc()\n",
    "        # 1 solve local prob\n",
    "        result = scipy.optimize.minimize(\n",
    "            lambda x: fun_val(*x), self.x_val, tol = self.eps_k_val,\n",
    "            method='Newton-CG',# 'trust-ncg',#\n",
    "            jac=lambda x: np.asarray(grad_val(*x)).flatten(),\n",
    "            hess=lambda x: np.asarray(hess_val(*x)).squeeze())\n",
    "        print('success = {}'.format(result.success))\n",
    "        print('message = {}'.format(result.message))\n",
    "        print('solution = {}'.format(result.x))\n",
    "        if result.success:\n",
    "            self.x_val = result.x\n",
    "        else:\n",
    "            raise Exception(result.message)\n",
    "\n",
    "        # 2 test convergence\n",
    "        gv = grad_val(*self.x_val)\n",
    "        gv = np.sqrt(float(gv.T*gv))\n",
    "        grad_convergence =  gv < self.eps_val\n",
    "        h_val_evals = [h(*self.x_val)**2 for h in h_vals]\n",
    "        hv = np.sqrt(sum(h_val_evals))\n",
    "        constraints_convergence = hv < self.eps_val\n",
    "        print('\\nConvergence:')\n",
    "        print(('grad_convergence:        {} ({:.4e} >= {}),\\n'\n",
    "               'constraints_convergence: {} ({:.4e} >= {})').format(\n",
    "            grad_convergence, gv, self.eps_val, constraints_convergence, hv, self.eps_val))\n",
    "        print('overall convergence: {}, current tol = {:.4e}'.format(\n",
    "            grad_convergence and constraints_convergence, self.eps_k_val))\n",
    "        overall_convergence = grad_convergence and constraints_convergence\n",
    "\n",
    "        if hv < self.eta_val:\n",
    "            self.lam_val = [lam + self.c_val*h_eval\n",
    "                            for lam, h_eval in zip(self.lam_val, h_val_evals)]\n",
    "            self.eps_k_val /= self.c_val\n",
    "            self.eta_val /= self.c_val**self.beta_val\n",
    "            print(('\\nWeak constraint violation: {:.4e} < {:.4e}; '\n",
    "                   'updated multipliers').format(\n",
    "                hv, self.eta_val))\n",
    "            print('λ = {}, tol_k = {:.4e}, update_tol = {:.4e}'.format(\n",
    "                ['{:.4e}'.format(l) for l in self.lam_val], self.eps_k_val, self.eta_val))\n",
    "        else:\n",
    "            self.c_val *= self.tau_val\n",
    "            self.eps_k_val = self.eps_0_val/self.c_val\n",
    "            self.eta_val = self.eta0_val/self.c_val**self.beta_val\n",
    "            print(('\\nBad constraint violation: {:.4e} > {:.4e}; '\n",
    "                   'increased penalty').format(\n",
    "                hv, self.eta_val))\n",
    "            print('c = {:.4e}, tol_k = {:.4e}, update_tol = {:.4e}'.format(\n",
    "                self.c_val, self.eps_k_val, self.eta_val))\n",
    "\n",
    "\n",
    "        self.iterates.append(scipy.optimize.OptimizeResult(\n",
    "            {'x': self.x_val.copy(),\n",
    "             'success': result.success,\n",
    "             'message': result.message,\n",
    "             'fun': result.fun,\n",
    "             'jac': result.jac,\n",
    "             'hess': hess_val(*self.x_val)}))\n",
    "        return overall_convergence\n",
    "\n",
    "\n"
   ]
  },
  {
   "cell_type": "code",
   "execution_count": 7,
   "metadata": {
    "autoscroll": "json-false",
    "collapsed": false,
    "ein.tags": [
     "worksheet-0"
    ]
   },
   "outputs": [
    {
     "name": "stdout",
     "output_type": "stream",
     "text": [
      "\n",
      "message = Desired error not necessarily achieved due to precision loss.\n",
      "solution = [  9.99999974e-01   2.27360443e-04]\n"
     ]
    },
    {
     "name": "stdout",
     "output_type": "stream",
     "text": [
      "\n",
      "message = Optimization terminated successfully.\n",
      "solution = [ 0.99999761  0.00218767]\n",
      "\n",
      "Convergence:\n",
      "grad_convergence:        False (2.1877e-07 >= 1e-08),\n",
      "constraints_convergence: True (1.5050e-11 >= 1e-08)\n",
      "overall convergence: False, current tol = 1.0000e-08\n",
      "\n",
      "Weak constraint violation: 1.5050e-11 < 3.1623e-14; updated multipliers\n",
      "λ = ['4.9927e-07'], tol_k = 1.0000e-15, update_tol = 3.1623e-14\n",
      "\n",
      "Iteration 21:\n",
      "success = False"
     ]
    },
    {
     "name": "stdout",
     "output_type": "stream",
     "text": [
      "\n",
      "message = Optimization terminated successfully.\n",
      "solution = [ 0.99999579  0.0029033 ]\n",
      "\n",
      "Convergence:\n",
      "grad_convergence:        False (2.9033e-07 >= 1e-08),\n",
      "constraints_convergence: True (1.5050e-10 >= 1e-08)\n",
      "overall convergence: False, current tol = 1.0000e-07\n",
      "\n",
      "Weak constraint violation: 1.5050e-10 < 1.9953e-12; updated multipliers\n",
      "λ = ['4.9927e-07'], tol_k = 1.0000e-13, update_tol = 1.9953e-12\n",
      "\n",
      "Iteration 19:\n",
      "success = True\n",
      "message = Optimization terminated successfully.\n",
      "solution = [ 0.99999761  0.00218767]\n",
      "\n",
      "Convergence:\n",
      "grad_convergence:        False (2.1877e-07 >= 1e-08),\n",
      "constraints_convergence: True (1.5050e-10 >= 1e-08)\n",
      "overall convergence: False, current tol = 1.0000e-13\n",
      "\n",
      "Bad constraint violation: 1.5050e-10 > 6.3096e-08; increased penalty\n",
      "c = 1.0000e+07, tol_k = 1.0000e-08, update_tol = 6.3096e-08\n",
      "\n",
      "Iteration 20:\n",
      "success = True"
     ]
    },
    {
     "name": "stdout",
     "output_type": "stream",
     "text": [
      "\n",
      "message = Optimization terminated successfully.\n",
      "solution = [ 0.99999578  0.0029033 ]\n",
      "\n",
      "Convergence:\n",
      "grad_convergence:        False (2.9033e-07 >= 1e-08),\n",
      "constraints_convergence: True (1.5050e-09 >= 1e-08)\n",
      "overall convergence: False, current tol = 1.0000e-06\n",
      "\n",
      "Weak constraint violation: 1.5050e-09 < 1.2589e-10; updated multipliers\n",
      "λ = ['4.9927e-07'], tol_k = 1.0000e-11, update_tol = 1.2589e-10\n",
      "\n",
      "Iteration 17:\n",
      "success = True\n",
      "message = Optimization terminated successfully.\n",
      "solution = [ 0.99999578  0.0029033 ]\n",
      "\n",
      "Convergence:\n",
      "grad_convergence:        False (2.9033e-07 >= 1e-08),\n",
      "constraints_convergence: True (1.5050e-09 >= 1e-08)\n",
      "overall convergence: False, current tol = 1.0000e-11\n",
      "\n",
      "Bad constraint violation: 1.5050e-09 > 5.0119e-07; increased penalty\n",
      "c = 1.0000e+06, tol_k = 1.0000e-07, update_tol = 5.0119e-07\n",
      "\n",
      "Iteration 18:\n",
      "success = True"
     ]
    },
    {
     "name": "stdout",
     "output_type": "stream",
     "text": [
      "\n",
      "message = Optimization terminated successfully.\n",
      "solution = [ 0.99999469  0.00325557]\n",
      "\n",
      "Convergence:\n",
      "grad_convergence:        False (3.2556e-07 >= 1e-08),\n",
      "constraints_convergence: False (1.5050e-08 >= 1e-08)\n",
      "overall convergence: False, current tol = 1.0000e-05\n",
      "\n",
      "Weak constraint violation: 1.5050e-08 < 7.9433e-09; updated multipliers\n",
      "λ = ['4.9927e-07'], tol_k = 1.0000e-09, update_tol = 7.9433e-09\n",
      "\n",
      "Iteration 15:\n",
      "success = True\n",
      "message = Optimization terminated successfully.\n",
      "solution = [ 0.99999578  0.0029033 ]\n",
      "\n",
      "Convergence:\n",
      "grad_convergence:        False (2.9033e-07 >= 1e-08),\n",
      "constraints_convergence: False (1.5050e-08 >= 1e-08)\n",
      "overall convergence: False, current tol = 1.0000e-09\n",
      "\n",
      "Bad constraint violation: 1.5050e-08 > 3.9811e-06; increased penalty\n",
      "c = 1.0000e+05, tol_k = 1.0000e-06, update_tol = 3.9811e-06\n",
      "\n",
      "Iteration 16:\n",
      "success = True"
     ]
    },
    {
     "name": "stdout",
     "output_type": "stream",
     "text": [
      "\n",
      "message = Optimization terminated successfully.\n",
      "solution = [ 0.9999907  0.0042956]\n",
      "\n",
      "Convergence:\n",
      "grad_convergence:        False (4.2957e-07 >= 1e-08),\n",
      "constraints_convergence: False (1.5050e-07 >= 1e-08)\n",
      "overall convergence: False, current tol = 1.0000e-04\n",
      "\n",
      "Weak constraint violation: 1.5050e-07 < 5.0119e-07; updated multipliers\n",
      "λ = ['4.9924e-07'], tol_k = 1.0000e-07, update_tol = 5.0119e-07\n",
      "\n",
      "Iteration 12:\n",
      "success = True\n",
      "message = Optimization terminated successfully.\n",
      "solution = [ 0.9999922   0.00393183]\n",
      "\n",
      "Convergence:\n",
      "grad_convergence:        False (3.9318e-07 >= 1e-08),\n",
      "constraints_convergence: False (1.5050e-07 >= 1e-08)\n",
      "overall convergence: False, current tol = 1.0000e-07\n",
      "\n",
      "Weak constraint violation: 1.5050e-07 < 1.0000e-09; updated multipliers\n",
      "λ = ['4.9927e-07'], tol_k = 1.0000e-10, update_tol = 1.0000e-09\n",
      "\n",
      "Iteration 13:\n",
      "success = True\n",
      "message = Optimization terminated successfully.\n",
      "solution = [ 0.99999463  0.00325557]\n",
      "\n",
      "Convergence:\n",
      "grad_convergence:        False (3.2556e-07 >= 1e-08),\n",
      "constraints_convergence: False (1.5050e-07 >= 1e-08)\n",
      "overall convergence: False, current tol = 1.0000e-10\n",
      "\n",
      "Bad constraint violation: 1.5050e-07 > 3.1623e-05; increased penalty\n",
      "c = 1.0000e+04, tol_k = 1.0000e-05, update_tol = 3.1623e-05\n",
      "\n",
      "Iteration 14:\n",
      "success = True"
     ]
    },
    {
     "name": "stdout",
     "output_type": "stream",
     "text": [
      "\n",
      "message = Optimization terminated successfully.\n",
      "solution = [ 0.99999002  0.0042956 ]\n",
      "\n",
      "Convergence:\n",
      "grad_convergence:        False (4.2956e-07 >= 1e-08),\n",
      "constraints_convergence: False (1.5050e-06 >= 1e-08)\n",
      "overall convergence: False, current tol = 1.0000e-05\n",
      "\n",
      "Weak constraint violation: 1.5050e-06 < 5.0119e-07; updated multipliers\n",
      "λ = ['4.9922e-07'], tol_k = 1.0000e-07, update_tol = 5.0119e-07\n",
      "\n",
      "Iteration 10:\n",
      "success = True\n",
      "message = Optimization terminated successfully.\n",
      "solution = [ 0.99999002  0.0042956 ]\n",
      "\n",
      "Convergence:\n",
      "grad_convergence:        False (4.2956e-07 >= 1e-08),\n",
      "constraints_convergence: False (1.5050e-06 >= 1e-08)\n",
      "overall convergence: False, current tol = 1.0000e-07\n",
      "\n",
      "Bad constraint violation: 1.5050e-06 > 2.5119e-04; increased penalty\n",
      "c = 1.0000e+03, tol_k = 1.0000e-04, update_tol = 2.5119e-04\n",
      "\n",
      "Iteration 11:\n",
      "success = True"
     ]
    },
    {
     "name": "stdout",
     "output_type": "stream",
     "text": [
      "\n",
      "message = Optimization terminated successfully.\n",
      "solution = [ 0.99997826  0.00533145]\n",
      "\n",
      "Convergence:\n",
      "grad_convergence:        False (5.3316e-07 >= 1e-08),\n",
      "constraints_convergence: False (1.5050e-05 >= 1e-08)\n",
      "overall convergence: False, current tol = 1.0000e-07\n",
      "\n",
      "Bad constraint violation: 1.5050e-05 > 1.9953e-03; increased penalty\n",
      "c = 1.0000e+02, tol_k = 1.0000e-03, update_tol = 1.9953e-03\n",
      "\n",
      "Iteration 8:\n",
      "success = True\n",
      "message = Optimization terminated successfully.\n",
      "solution = [ 0.99998504  0.00533148]\n",
      "\n",
      "Convergence:\n",
      "grad_convergence:        False (5.3386e-07 >= 1e-08),\n",
      "constraints_convergence: False (1.5049e-06 >= 1e-08)\n",
      "overall convergence: False, current tol = 1.0000e-03\n",
      "\n",
      "Weak constraint violation: 1.5049e-06 < 3.1623e-05; updated multipliers\n",
      "λ = ['4.9900e-07'], tol_k = 1.0000e-05, update_tol = 3.1623e-05\n",
      "\n",
      "Iteration 9:\n",
      "success = True"
     ]
    },
    {
     "name": "stdout",
     "output_type": "stream",
     "text": [
      "\n",
      "message = Optimization terminated successfully.\n",
      "solution = [ 0.99836848  0.05696777]\n",
      "\n",
      "Convergence:\n",
      "grad_convergence:        False (5.6969e-06 >= 1e-08),\n",
      "constraints_convergence: False (1.5059e-05 >= 1e-08)\n",
      "overall convergence: False, current tol = 1.0000e-05\n",
      "\n",
      "Weak constraint violation: 1.5059e-05 < 2.5119e-05; updated multipliers\n",
      "λ = ['4.9650e-07'], tol_k = 1.0000e-06, update_tol = 2.5119e-05\n",
      "\n",
      "Iteration 6:\n",
      "success = True\n",
      "message = Optimization terminated successfully.\n",
      "solution = [ 0.99994426  0.00981982]\n",
      "\n",
      "Convergence:\n",
      "grad_convergence:        False (9.8199e-07 >= 1e-08),\n",
      "constraints_convergence: False (1.5050e-05 >= 1e-08)\n",
      "overall convergence: False, current tol = 1.0000e-06\n",
      "\n",
      "Weak constraint violation: 1.5050e-05 < 3.1623e-06; updated multipliers\n",
      "λ = ['4.9877e-07'], tol_k = 1.0000e-07, update_tol = 3.1623e-06\n",
      "\n",
      "Iteration 7:\n",
      "success = True"
     ]
    },
    {
     "name": "stdout",
     "output_type": "stream",
     "text": [
      "\n",
      "message = Optimization terminated successfully.\n",
      "solution = [-0.0863386   0.99625554]\n",
      "\n",
      "Convergence:\n",
      "grad_convergence:        False (9.9635e-05 >= 1e-08),\n",
      "constraints_convergence: False (2.0545e-05 >= 1e-08)\n",
      "overall convergence: False, current tol = 1.0000e-03\n",
      "\n",
      "Weak constraint violation: 2.0545e-05 < 1.5849e-03; updated multipliers\n",
      "λ = ['4.9002e-07'], tol_k = 1.0000e-04, update_tol = 1.5849e-03\n",
      "\n",
      "Iteration 4:\n",
      "success = True\n",
      "message = Optimization terminated successfully.\n",
      "solution = [-0.07966411  0.99681147]\n",
      "\n",
      "Convergence:\n",
      "grad_convergence:        False (9.9695e-05 >= 1e-08),\n",
      "constraints_convergence: False (2.0526e-05 >= 1e-08)\n",
      "overall convergence: False, current tol = 1.0000e-04\n",
      "\n",
      "Weak constraint violation: 2.0526e-05 < 1.9953e-04; updated multipliers\n",
      "λ = ['4.9424e-07'], tol_k = 1.0000e-05, update_tol = 1.9953e-04\n",
      "\n",
      "Iteration 5:\n",
      "success = True"
     ]
    },
    {
     "name": "stdout",
     "output_type": "stream",
     "text": [
      "[[-19.9996   0.    ]\n",
      " [  0.     -19.9996]]\n",
      "\n",
      "Iteration 1:\n",
      "success = True\n",
      "message = Optimization terminated successfully.\n",
      "solution = [-0.09950395  0.99506409]\n",
      "\n",
      "Convergence:\n",
      "grad_convergence:        False (1.4848e-03 >= 1e-08),\n",
      "constraints_convergence: False (5.3572e-05 >= 1e-08)\n",
      "overall convergence: False, current tol = 1.0000e-01\n",
      "\n",
      "Weak constraint violation: 5.3572e-05 < 1.0000e-01; updated multipliers\n",
      "λ = ['2.8700e-08'], tol_k = 1.0000e-02, update_tol = 1.0000e-01\n",
      "\n",
      "Iteration 2:\n",
      "success = True\n",
      "message = Optimization terminated successfully.\n",
      "solution = [-0.08635119  0.99637205]\n",
      "\n",
      "Convergence:\n",
      "grad_convergence:        False (4.6862e-03 >= 1e-08),\n",
      "constraints_convergence: False (2.1380e-04 >= 1e-08)\n",
      "overall convergence: False, current tol = 1.0000e-02\n",
      "\n",
      "Weak constraint violation: 2.1380e-04 < 1.2589e-02; updated multipliers\n",
      "λ = ['4.8580e-07'], tol_k = 1.0000e-03, update_tol = 1.2589e-02\n",
      "\n",
      "Iteration 3:\n",
      "success = True"
     ]
    }
   ],
   "source": [
    "aa = augmented_algo(f, h, [x, y], (-.1, 1.))\n",
    "fun_val, grad_val, hess_val, h_vals = aa.numeric_Lc()\n",
    "print(hess_val(0, 0))\n",
    "converged = False\n",
    "while not converged:\n",
    "    try:\n",
    "        converged = aa.iteration()\n",
    "    except Exception:\n",
    "        converged = True\n"
   ]
  },
  {
   "cell_type": "code",
   "execution_count": 8,
   "metadata": {
    "autoscroll": "json-false",
    "collapsed": false,
    "ein.tags": [
     "worksheet-0"
    ]
   },
   "outputs": [],
   "source": [
    "%matplotlib inline\n",
    "import matplotlib.pyplot as plt"
   ]
  },
  {
   "cell_type": "code",
   "execution_count": 9,
   "metadata": {
    "autoscroll": "json-false",
    "collapsed": false,
    "ein.tags": [
     "worksheet-0"
    ]
   },
   "outputs": [
    {
     "data": {
      "text/plain": [
       "<matplotlib.figure.Figure at 0x7f5d6741a9b0>"
      ]
     },
     "metadata": {},
     "output_type": "display_data"
    },
    {
     "data": {
      "text/plain": [
       "[<matplotlib.lines.Line2D at 0x7f5d67407358>]"
      ]
     },
     "execution_count": 9,
     "metadata": {},
     "output_type": "execute_result"
    }
   ],
   "source": [
    "coords = np.array([it.x for it in aa.iterates])\n",
    "xs = np.linspace(-1.1, 1.1, 51)\n",
    "ys = np.linspace(-1.1, 1.1, 51)\n",
    "X, Y = np.meshgrid(xs, ys)\n",
    "Z = sympy.utilities.lambdify([x, y], f)(X,Y)\n",
    "CS = plt.contourf(X, Y, Z)\n",
    "\n",
    "phi = np.linspace(0, 2*np.pi, 97)\n",
    "xs, ys = np.cos(phi), np.sin(phi)\n",
    "plt.plot(xs, ys, c='k', lw=2)\n",
    "plt.plot(coords[:, 0], coords[:, 1], c = 'r', lw = 2)\n",
    "\n",
    "\n"
   ]
  },
  {
   "cell_type": "code",
   "execution_count": 7,
   "metadata": {
    "autoscroll": "json-false",
    "collapsed": false,
    "ein.tags": [
     "worksheet-0"
    ]
   },
   "outputs": [
    {
     "data": {
      "text/plain": [
       "a"
      ]
     },
     "execution_count": 7,
     "metadata": {},
     "output_type": "execute_result"
    }
   ],
   "source": [
    "a = Symbol('a')\n",
    "b = Symbol('b')\n",
    "f = a\n",
    "f"
   ]
  },
  {
   "cell_type": "code",
   "execution_count": 14,
   "metadata": {
    "autoscroll": "json-false",
    "collapsed": false,
    "ein.tags": [
     "worksheet-0"
    ]
   },
   "outputs": [
    {
     "data": {
      "text/plain": [
       "a + 7*b"
      ]
     },
     "execution_count": 14,
     "metadata": {},
     "output_type": "execute_result"
    }
   ],
   "source": [
    "f += b\n",
    "f"
   ]
  },
  {
   "cell_type": "code",
   "execution_count": 6,
   "metadata": {
    "autoscroll": "json-false",
    "collapsed": false,
    "ein.tags": [
     "worksheet-0"
    ]
   },
   "outputs": [
    {
     "data": {
      "text/plain": [
       "(3, 1)"
      ]
     },
     "execution_count": 6,
     "metadata": {},
     "output_type": "execute_result"
    }
   ],
   "source": [
    "a.shape\n"
   ]
  },
  {
   "cell_type": "code",
   "execution_count": 102,
   "metadata": {
    "autoscroll": "json-false",
    "collapsed": false,
    "ein.tags": [
     "worksheet-0"
    ]
   },
   "outputs": [
    {
     "ename": "ValueError",
     "evalue": "matrices are not aligned",
     "output_type": "error",
     "traceback": [
      "\u001b[0;31m---------------------------------------------------------------------------\u001b[0m\n\u001b[0;31mValueError\u001b[0m                                Traceback (most recent call last)",
      "\u001b[0;32m<ipython-input-102-02bf2d6470f9>\u001b[0m in \u001b[0;36m<module>\u001b[0;34m()\u001b[0m\n\u001b[1;32m      4\u001b[0m \u001b[0mB\u001b[0m\u001b[0;34m\u001b[0m\u001b[0m\n\u001b[1;32m      5\u001b[0m \u001b[0mprint\u001b[0m\u001b[0;34m(\u001b[0m\u001b[0mnp\u001b[0m\u001b[0;34m.\u001b[0m\u001b[0mdot\u001b[0m\u001b[0;34m(\u001b[0m\u001b[0mB\u001b[0m\u001b[0;34m,\u001b[0m \u001b[0md\u001b[0m\u001b[0;34m)\u001b[0m\u001b[0;34m)\u001b[0m\u001b[0;34m\u001b[0m\u001b[0m\n\u001b[0;32m----> 6\u001b[0;31m \u001b[0mnp\u001b[0m\u001b[0;34m.\u001b[0m\u001b[0mdot\u001b[0m\u001b[0;34m(\u001b[0m\u001b[0md\u001b[0m\u001b[0;34m,\u001b[0m \u001b[0mnp\u001b[0m\u001b[0;34m.\u001b[0m\u001b[0mdot\u001b[0m\u001b[0;34m(\u001b[0m\u001b[0mB\u001b[0m\u001b[0;34m,\u001b[0m \u001b[0md\u001b[0m\u001b[0;34m)\u001b[0m\u001b[0;34m)\u001b[0m\u001b[0;34m\u001b[0m\u001b[0m\n\u001b[0m",
      "\u001b[0;31mValueError\u001b[0m: matrices are not aligned"
     ]
    },
    {
     "name": "stdout",
     "output_type": "stream",
     "text": [
      "[[ 6.  6.]]\n"
     ]
    }
   ],
   "source": [
    "\n",
    "d = np.array((5., 5))\n",
    "B = np.matrix(np.eye(2)*1.2)\n",
    "B\n",
    "print(np.dot(B, d))\n",
    "np.dot(d, np.dot(B, d))"
   ]
  },
  {
   "cell_type": "code",
   "execution_count": null,
   "metadata": {
    "autoscroll": "json-false",
    "collapsed": false,
    "ein.tags": [
     "worksheet-0"
    ]
   },
   "outputs": [],
   "source": []
  }
 ],
 "metadata": {
  "name": "Symbolic_Augmented_Lagrangian.ipynb"
 },
 "nbformat": 4,
 "nbformat_minor": 0
}
